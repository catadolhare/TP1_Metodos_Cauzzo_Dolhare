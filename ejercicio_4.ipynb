{
 "cells": [
  {
   "cell_type": "markdown",
   "metadata": {},
   "source": [
    "# Ejercicio 4 - TP1 Métodos Computaciones\n",
    "### Camila Cauzzo y Catalina Dolhare"
   ]
  },
  {
   "cell_type": "code",
   "execution_count": 7,
   "metadata": {},
   "outputs": [],
   "source": [
    "import pandas as pd\n",
    "from matricesRalas import *"
   ]
  },
  {
   "cell_type": "markdown",
   "metadata": {},
   "source": [
    "Leemos los archivos csv"
   ]
  },
  {
   "cell_type": "code",
   "execution_count": 8,
   "metadata": {},
   "outputs": [],
   "source": [
    "papers = pd.read_csv('papers/papers.csv', header = 0)\n",
    "citas = pd.read_csv('papers/citas.csv', header = 0)"
   ]
  },
  {
   "cell_type": "markdown",
   "metadata": {},
   "source": [
    "Creamos las matrices W y D con sus respectivos valores"
   ]
  },
  {
   "cell_type": "code",
   "execution_count": 10,
   "metadata": {},
   "outputs": [],
   "source": [
    "W = MatrizRala(len(papers), len(papers))\n",
    "D = MatrizRala(len(papers), len(papers))\n",
    "\n",
    "cantidad_citas = [0] * len(papers)\n",
    "for index, row in citas.iterrows():\n",
    "    W[row['to'], row['from']] = 1\n",
    "    cantidad_citas[row['to']] += 1\n",
    "\n",
    "for i in range(len(cantidad_citas)):\n",
    "    D[i, i] = 1/cantidad_citas[i]"
   ]
  },
  {
   "cell_type": "markdown",
   "metadata": {},
   "source": [
    "Usando d=0.85 y asumiendo una  asumiendo una distribución equiprobable para el tiempo 1"
   ]
  },
  {
   "cell_type": "code",
   "execution_count": 13,
   "metadata": {},
   "outputs": [
    {
     "ename": "KeyboardInterrupt",
     "evalue": "",
     "output_type": "error",
     "traceback": [
      "\u001b[1;31m---------------------------------------------------------------------------\u001b[0m",
      "\u001b[1;31mKeyboardInterrupt\u001b[0m                         Traceback (most recent call last)",
      "Cell \u001b[1;32mIn[13], line 9\u001b[0m\n\u001b[0;32m      6\u001b[0m b \u001b[38;5;241m=\u001b[39m (\u001b[38;5;241m1\u001b[39m \u001b[38;5;241m-\u001b[39m \u001b[38;5;241m0.85\u001b[39m)\u001b[38;5;241m/\u001b[39m\u001b[38;5;28mlen\u001b[39m(papers)\n\u001b[0;32m      8\u001b[0m \u001b[38;5;28;01mfor\u001b[39;00m i \u001b[38;5;129;01min\u001b[39;00m \u001b[38;5;28mrange\u001b[39m(\u001b[38;5;241m1\u001b[39m, \u001b[38;5;241m5\u001b[39m):\n\u001b[1;32m----> 9\u001b[0m     p\u001b[38;5;241m.\u001b[39mappend((b \u001b[38;5;241m+\u001b[39m \u001b[38;5;241m0.85\u001b[39m \u001b[38;5;241m*\u001b[39m (\u001b[43mW\u001b[49m\u001b[38;5;129;43m@D\u001b[39;49m) \u001b[38;5;241m@\u001b[39m p[i\u001b[38;5;241m-\u001b[39m\u001b[38;5;241m1\u001b[39m], i))\n\u001b[0;32m     11\u001b[0m diferencias \u001b[38;5;241m=\u001b[39m []\n\u001b[0;32m     13\u001b[0m \u001b[38;5;28;01mfor\u001b[39;00m i \u001b[38;5;129;01min\u001b[39;00m \u001b[38;5;28mrange\u001b[39m(\u001b[38;5;241m5\u001b[39m):\n",
      "File \u001b[1;32mc:\\Users\\catal\\OneDrive - Universidad Torcuato Di Tella\\2024\\Primer Cuatrimestre\\Métodos Computacionales\\TP1_Metodos_Cauzzo_Dolhare\\matricesRalas.py:189\u001b[0m, in \u001b[0;36mMatrizRala.__matmul__\u001b[1;34m(self, other)\u001b[0m\n\u001b[0;32m    187\u001b[0m     \u001b[38;5;28;01mfor\u001b[39;00m j \u001b[38;5;129;01min\u001b[39;00m \u001b[38;5;28mrange\u001b[39m(other\u001b[38;5;241m.\u001b[39mshape[\u001b[38;5;241m1\u001b[39m]):\n\u001b[0;32m    188\u001b[0m         \u001b[38;5;28;01mfor\u001b[39;00m k \u001b[38;5;129;01min\u001b[39;00m \u001b[38;5;28mrange\u001b[39m(\u001b[38;5;28mself\u001b[39m\u001b[38;5;241m.\u001b[39mshape[\u001b[38;5;241m1\u001b[39m]):\n\u001b[1;32m--> 189\u001b[0m             \u001b[43mres\u001b[49m\u001b[43m[\u001b[49m\u001b[43mi\u001b[49m\u001b[43m,\u001b[49m\u001b[43m \u001b[49m\u001b[43mj\u001b[49m\u001b[43m]\u001b[49m \u001b[38;5;241m+\u001b[39m\u001b[38;5;241m=\u001b[39m \u001b[38;5;28mself\u001b[39m[i, k] \u001b[38;5;241m*\u001b[39m other[k, j]\n\u001b[0;32m    190\u001b[0m \u001b[38;5;28;01mreturn\u001b[39;00m res\n",
      "File \u001b[1;32mc:\\Users\\catal\\OneDrive - Universidad Torcuato Di Tella\\2024\\Primer Cuatrimestre\\Métodos Computacionales\\TP1_Metodos_Cauzzo_Dolhare\\matricesRalas.py:125\u001b[0m, in \u001b[0;36mMatrizRala.__setitem__\u001b[1;34m(self, Idx, v)\u001b[0m\n\u001b[0;32m    123\u001b[0m     nodo\u001b[38;5;241m.\u001b[39mvalor \u001b[38;5;241m=\u001b[39m (Idx[\u001b[38;5;241m1\u001b[39m], v)\n\u001b[0;32m    124\u001b[0m     \u001b[38;5;28;01mreturn\u001b[39;00m\n\u001b[1;32m--> 125\u001b[0m \u001b[38;5;28;01mif\u001b[39;00m \u001b[43mnodo\u001b[49m\u001b[38;5;241;43m.\u001b[39;49m\u001b[43mvalor\u001b[49m\u001b[43m[\u001b[49m\u001b[38;5;241;43m0\u001b[39;49m\u001b[43m]\u001b[49m\u001b[43m \u001b[49m\u001b[38;5;241;43m>\u001b[39;49m\u001b[43m \u001b[49m\u001b[43mIdx\u001b[49m\u001b[43m[\u001b[49m\u001b[38;5;241;43m1\u001b[39;49m\u001b[43m]\u001b[49m:\n\u001b[0;32m    126\u001b[0m     \u001b[38;5;28;01mif\u001b[39;00m prev \u001b[38;5;129;01mis\u001b[39;00m \u001b[38;5;28;01mNone\u001b[39;00m:\n\u001b[0;32m    127\u001b[0m         \u001b[38;5;28mself\u001b[39m\u001b[38;5;241m.\u001b[39mfilas[Idx[\u001b[38;5;241m0\u001b[39m]]\u001b[38;5;241m.\u001b[39minsertarFrente((Idx[\u001b[38;5;241m1\u001b[39m], v))\n",
      "\u001b[1;31mKeyboardInterrupt\u001b[0m: "
     ]
    }
   ],
   "source": [
    "p1 = MatrizRala(len(papers), 1)\n",
    "for i in range(len(papers)):\n",
    "    p1[i, 0] = (1/len(papers), i)\n",
    "\n",
    "p = [p1]\n",
    "b = (1 - 0.85)/len(papers)\n",
    "\n",
    "for i in range(1, 30):\n",
    "    p.append((b + 0.85 * (W@D) @ p[i-1], i))\n",
    "\n",
    "diferencias = []\n",
    "\n",
    "for i in range(30):\n",
    "    diferencia = 0\n",
    "    for j in range(30):\n",
    "        diferencia += abs(p[0][i][j,0] - p[0][i-1][j,0])\n",
    "    diferencias.append(diferencia)\n",
    "\n",
    "print(diferencias)\n"
   ]
  },
  {
   "cell_type": "markdown",
   "metadata": {},
   "source": [
    "Para encontrar la lista de los 10 papers con mayor impacto, tenemos que ordenar las probabilidades para ver cual tiene la mayor probabilidad en p"
   ]
  },
  {
   "cell_type": "code",
   "execution_count": null,
   "metadata": {},
   "outputs": [],
   "source": [
    "p_sorted = sorted(p[-1], key=lambda x: x[0], reverse=True) #quiero el ultimo que es donde converge\n",
    "\n",
    "mejores_diez = p_sorted[:10]\n",
    "print(mejores_diez)"
   ]
  }
 ],
 "metadata": {
  "kernelspec": {
   "display_name": "metodos",
   "language": "python",
   "name": "python3"
  },
  "language_info": {
   "codemirror_mode": {
    "name": "ipython",
    "version": 3
   },
   "file_extension": ".py",
   "mimetype": "text/x-python",
   "name": "python",
   "nbconvert_exporter": "python",
   "pygments_lexer": "ipython3",
   "version": "3.10.13"
  }
 },
 "nbformat": 4,
 "nbformat_minor": 2
}

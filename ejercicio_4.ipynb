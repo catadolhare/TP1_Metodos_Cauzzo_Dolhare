{
 "cells": [
  {
   "cell_type": "markdown",
   "metadata": {},
   "source": [
    "# Ejercicio 4 - TP1 Métodos Computaciones\n",
    "### Camila Cauzzo y Catalina Dolhare"
   ]
  },
  {
   "cell_type": "code",
   "execution_count": 2,
   "metadata": {},
   "outputs": [],
   "source": [
    "import pandas as pd\n",
    "from matricesRalas import *"
   ]
  },
  {
   "cell_type": "markdown",
   "metadata": {},
   "source": [
    "Leemos los archivos csv"
   ]
  },
  {
   "cell_type": "code",
   "execution_count": 3,
   "metadata": {},
   "outputs": [],
   "source": [
    "papers = pd.read_csv('papers/papers.csv', header = 0)\n",
    "citas = pd.read_csv('papers/citas.csv', header = 0)"
   ]
  },
  {
   "cell_type": "markdown",
   "metadata": {},
   "source": [
    "Creamos las matrices W y D con sus respectivos valores"
   ]
  },
  {
   "cell_type": "code",
   "execution_count": 4,
   "metadata": {},
   "outputs": [],
   "source": [
    "W = MatrizRala(len(papers), len(papers))\n",
    "D = MatrizRala(len(papers), len(papers))\n",
    "\n",
    "cantidad_citas = [0] * len(papers)\n",
    "for index, row in citas.iterrows():\n",
    "    W[row['to'], row['from']] = 1\n",
    "    cantidad_citas[row['from']] += 1\n",
    "\n",
    "for i in range(len(cantidad_citas)):\n",
    "    if cantidad_citas[i] != 0:\n",
    "        D[i, i] = 1/cantidad_citas[i]"
   ]
  },
  {
   "cell_type": "markdown",
   "metadata": {},
   "source": [
    "Usando d=0.85 y asumiendo una  asumiendo una distribución equiprobable para el tiempo 1"
   ]
  },
  {
   "cell_type": "code",
   "execution_count": 5,
   "metadata": {},
   "outputs": [],
   "source": [
    "p0 = MatrizRala(len(papers), 1)\n",
    "for i in range(len(papers)):\n",
    "    p0[i, 0] = 1/len(papers)\n",
    "\n",
    "p = [p0]\n"
   ]
  },
  {
   "cell_type": "code",
   "execution_count": 6,
   "metadata": {},
   "outputs": [],
   "source": [
    "b = MatrizRala(len(papers), 1)\n",
    "vector_unos = MatrizRala(len(papers), 1)\n",
    "\n",
    "for i in range(len(papers)):\n",
    "    vector_unos[i, 0] = 1\n",
    "    \n",
    "for i in range(len(papers)):\n",
    "    b[i, 0] = ((1 - 0.85)/len(papers)) * vector_unos[i, 0]"
   ]
  },
  {
   "cell_type": "markdown",
   "metadata": {},
   "source": [
    "Calculamos $p_{t+1}$ hasta que las probabilidades convergan"
   ]
  },
  {
   "cell_type": "code",
   "execution_count": 7,
   "metadata": {},
   "outputs": [
    {
     "name": "stdout",
     "output_type": "stream",
     "text": [
      "0.832824508117974\n",
      "0.10259407187713258\n",
      "0.029122875063712566\n",
      "0.011399392348919412\n",
      "0.0052394794477821265\n",
      "0.002622486728358653\n",
      "0.0013768778216899332\n",
      "0.0007407527828097452\n",
      "0.00039711657577709683\n",
      "0.00021085476385928654\n",
      "0.00011079258030189643\n",
      "5.806657733613456e-05\n",
      "3.096854375163844e-05\n",
      "1.725666519689372e-05\n",
      "1.0333548214805106e-05\n",
      "6.767972978102598e-06\n",
      "4.843063844585716e-06\n",
      "3.7100655929658445e-06\n",
      "2.9728052023310694e-06\n",
      "2.4426430696776365e-06\n",
      "2.035414040530446e-06\n",
      "1.708300995483168e-06\n",
      "1.4396293159765497e-06\n",
      "1.2158007817647133e-06\n",
      "1.0283647296092052e-06\n",
      "8.705238597175712e-07\n"
     ]
    }
   ],
   "source": [
    "dif = 1\n",
    "epsilon = 1e-6\n",
    "\n",
    "while dif > epsilon:\n",
    "    dif = 0\n",
    "    p.append(b + (0.85 * ((W@D) @ p[-1])))\n",
    "    for i in range(len(papers)):\n",
    "        dif += abs(p[-1][i, 0] - p[-2][i, 0])\n",
    "    print(dif)"
   ]
  },
  {
   "cell_type": "markdown",
   "metadata": {},
   "source": [
    "Para encontrar la lista de los 10 papers con mayor impacto, tenemos que ordenar las probabilidades para ver cual tiene la mayor probabilidad en p"
   ]
  },
  {
   "cell_type": "code",
   "execution_count": 13,
   "metadata": {},
   "outputs": [
    {
     "name": "stdout",
     "output_type": "stream",
     "text": [
      "[(0.0001090988049184635, 81323), (0.00010885142597253129, 327827), (0.00010676566975189544, 79620), (0.00010480298176126509, 326368), (0.00010365022983481889, 547167), (0.00010214974732340669, 552437), (6.487411528366567e-05, 322720), (6.25701941277987e-05, 153803), (5.752445148392723e-05, 328020), (5.579477177375608e-05, 317300)]\n",
      "0.19460316220743418\n"
     ]
    }
   ],
   "source": [
    "p_list = []\n",
    "suma=0\n",
    "for i in range(len(papers)):\n",
    "    p_list.append((p[-1][i,0], i)) #quiero el ultimo que es donde converge\n",
    "    suma+=p[-1][i,0]\n",
    "\n",
    "p_sorted = sorted(p_list, key=lambda x: x[0], reverse=True)\n",
    "\n",
    "mejores_diez = p_sorted[:10]\n",
    "print(mejores_diez)\n",
    "print(suma)"
   ]
  }
 ],
 "metadata": {
  "kernelspec": {
   "display_name": "metodos",
   "language": "python",
   "name": "python3"
  },
  "language_info": {
   "codemirror_mode": {
    "name": "ipython",
    "version": 3
   },
   "file_extension": ".py",
   "mimetype": "text/x-python",
   "name": "python",
   "nbconvert_exporter": "python",
   "pygments_lexer": "ipython3",
   "version": "3.10.13"
  }
 },
 "nbformat": 4,
 "nbformat_minor": 2
}

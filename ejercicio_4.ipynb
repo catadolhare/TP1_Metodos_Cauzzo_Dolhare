{
 "cells": [
  {
   "cell_type": "markdown",
   "metadata": {},
   "source": [
    "# Ejercicio 4 - TP1 Métodos Computaciones\n",
    "### Camila Cauzzo y Catalina Dolhare"
   ]
  },
  {
   "cell_type": "code",
   "execution_count": 23,
   "metadata": {},
   "outputs": [],
   "source": [
    "import pandas as pd\n",
    "from matricesRalas import *"
   ]
  },
  {
   "cell_type": "markdown",
   "metadata": {},
   "source": [
    "Leemos los archivos csv"
   ]
  },
  {
   "cell_type": "code",
   "execution_count": 24,
   "metadata": {},
   "outputs": [],
   "source": [
    "papers = pd.read_csv('papers/papers.csv', header = 0)\n",
    "citas = pd.read_csv('papers/citas.csv', header = 0)"
   ]
  },
  {
   "cell_type": "markdown",
   "metadata": {},
   "source": [
    "Creamos las matrices W y D con sus respectivos valores"
   ]
  },
  {
   "cell_type": "code",
   "execution_count": 25,
   "metadata": {},
   "outputs": [],
   "source": [
    "W = MatrizRala(len(papers), len(papers))\n",
    "D = MatrizRala(len(papers), len(papers))\n",
    "\n",
    "cantidad_citas = [0] * len(papers)\n",
    "cantidad_veces_citado = [0] * len(papers)\n",
    "for index, row in citas.iterrows():\n",
    "    W[row['to'], row['from']] = 1\n",
    "    cantidad_citas[row['from']] += 1\n",
    "    cantidad_veces_citado[row['to']] += 1\n",
    "\n",
    "for i in range(len(cantidad_citas)):\n",
    "    if cantidad_citas[i] != 0:\n",
    "        D[i, i] = 1/cantidad_citas[i]"
   ]
  },
  {
   "cell_type": "markdown",
   "metadata": {},
   "source": [
    "Usando d=0.85 y asumiendo una  asumiendo una distribución equiprobable para el tiempo 1"
   ]
  },
  {
   "cell_type": "code",
   "execution_count": 26,
   "metadata": {},
   "outputs": [],
   "source": [
    "p0 = MatrizRala(len(papers), 1)\n",
    "for i in range(len(papers)):\n",
    "    p0[i, 0] = 1/len(papers)\n",
    "\n",
    "p = [p0]\n"
   ]
  },
  {
   "cell_type": "code",
   "execution_count": 27,
   "metadata": {},
   "outputs": [],
   "source": [
    "b = MatrizRala(len(papers), 1)\n",
    "vector_unos = MatrizRala(len(papers), 1)\n",
    "\n",
    "for i in range(len(papers)):\n",
    "    vector_unos[i, 0] = 1\n",
    "    \n",
    "for i in range(len(papers)):\n",
    "    b[i, 0] = ((1 - 0.85)/len(papers)) * vector_unos[i, 0]"
   ]
  },
  {
   "cell_type": "markdown",
   "metadata": {},
   "source": [
    "Calculamos $p_{t+1}$ hasta que las probabilidades convergan"
   ]
  },
  {
   "cell_type": "code",
   "execution_count": 28,
   "metadata": {},
   "outputs": [
    {
     "name": "stdout",
     "output_type": "stream",
     "text": [
      "0.832824508117974\n",
      "0.10259407187713258\n",
      "0.029122875063712566\n",
      "0.011399392348919412\n",
      "0.0052394794477821265\n",
      "0.002622486728358653\n",
      "0.0013768778216899332\n",
      "0.0007407527828097452\n",
      "0.00039711657577709683\n",
      "0.00021085476385928654\n",
      "0.00011079258030189643\n",
      "5.806657733613456e-05\n"
     ]
    }
   ],
   "source": [
    "dif = 1\n",
    "epsilon = 1e-4\n",
    "\n",
    "while dif > epsilon:\n",
    "    dif = 0\n",
    "    p.append(b + (0.85 * ((W@D) @ p[-1])))\n",
    "    for i in range(len(papers)):\n",
    "        dif += abs(p[-1][i, 0] - p[-2][i, 0])\n",
    "    print(dif)"
   ]
  },
  {
   "cell_type": "markdown",
   "metadata": {},
   "source": [
    "Para encontrar la lista de los 10 papers con mayor impacto, tenemos que ordenar las probabilidades para ver cual tiene la mayor probabilidad en p"
   ]
  },
  {
   "cell_type": "code",
   "execution_count": 29,
   "metadata": {},
   "outputs": [],
   "source": [
    "p_list = []\n",
    "suma=0\n",
    "for i in range(len(papers)):\n",
    "    p_list.append((p[-1][i,0], i)) #quiero el ultimo que es donde converge\n",
    "    suma+=p[-1][i,0]\n",
    "\n",
    "p_sorted = sorted(p_list, key=lambda x: x[0], reverse=True)\n",
    "\n",
    "mejores_diez = p_sorted[:10]"
   ]
  },
  {
   "cell_type": "code",
   "execution_count": 30,
   "metadata": {},
   "outputs": [
    {
     "name": "stdout",
     "output_type": "stream",
     "text": [
      "10 papers de mayor impacto con metodo iterativo:\n",
      "Id:  81323 Título:  The art of computer programming, volume 2 (3rd ed.): seminumerical algorithms Probabilidad:  0.00010985829752188989\n",
      "Id:  327827 Título:  A method for obtaining digital signatures and public-key cryptosystems Probabilidad:  0.00010954822077816629\n",
      "Id:  79620 Título:  The art of computer programming, volume 1 (3rd ed.): fundamental algorithms Probabilidad:  0.00010688699168242818\n",
      "Id:  326368 Título:  A relational model of data for large shared data banks Probabilidad:  0.00010501259079368823\n",
      "Id:  547167 Título:  Recovery semantics for a DB/DC system Probabilidad:  0.00010356174150937865\n",
      "Id:  552437 Título:  Recovery scenario for a DB/DC system Probabilidad:  0.00010219768860612419\n",
      "Id:  322720 Título:  Programming semantics for multiprogrammed computations Probabilidad:  6.608330575004965e-05\n",
      "Id:  153803 Título:  Principles of interactive computer graphics (2nd ed.) Probabilidad:  6.275025632023962e-05\n",
      "Id:  328020 Título:  Report on the algorithmic language ALGOL 60 Probabilidad:  5.78533038574297e-05\n",
      "Id:  317300 Título:  Ethernet: distributed packet switching for local computer networks Probabilidad:  5.5876172618391496e-05\n"
     ]
    }
   ],
   "source": [
    "papers_mejores_diez = []\n",
    "for i in range(10):\n",
    "    papers_mejores_diez.append((mejores_diez[i], papers.iloc[mejores_diez[i][1]]['titulo']))\n",
    "\n",
    "print(\"10 papers de mayor impacto con metodo iterativo:\")\n",
    "for i in range(10):\n",
    "    print(\"Id: \", papers_mejores_diez[i][0][1], \"Título: \", papers_mejores_diez[i][1], \"Probabilidad: \", papers_mejores_diez[i][0][0])\n"
   ]
  },
  {
   "cell_type": "markdown",
   "metadata": {},
   "source": [
    "Buscamos cuales son los 10 papers con mayor probabilidad en la matriz D para compararlos contra estos resultados"
   ]
  },
  {
   "cell_type": "code",
   "execution_count": 31,
   "metadata": {},
   "outputs": [
    {
     "name": "stdout",
     "output_type": "stream",
     "text": [
      "10 papers de mayor impacto en cantidad de citas:\n",
      "Id:  453387 Título:  Introduction to algorithms Cantidad de veces citado:  816\n",
      "Id:  162585 Título:  Compilers: principles, techniques, and tools Cantidad de veces citado:  791\n",
      "Id:  214951 Título:  C4.5: programs for machine learning Cantidad de veces citado:  648\n",
      "Id:  151297 Título:  Smalltalk-80: the language and its implementation Cantidad de veces citado:  588\n",
      "Id:  326368 Título:  A relational model of data for large shared data banks Cantidad de veces citado:  566\n",
      "Id:  319217 Título:  Time, clocks, and the ordering of events in a distributed system Cantidad de veces citado:  560\n",
      "Id:  586607 Título:  The nature of statistical learning theory Cantidad de veces citado:  553\n",
      "Id:  311413 Título:  Pattern Classification (2nd Edition) Cantidad de veces citado:  524\n",
      "Id:  79620 Título:  The art of computer programming, volume 1 (3rd ed.): fundamental algorithms Cantidad de veces citado:  522\n",
      "Id:  81323 Título:  The art of computer programming, volume 2 (3rd ed.): seminumerical algorithms Cantidad de veces citado:  504\n"
     ]
    }
   ],
   "source": [
    "p_D = []\n",
    "\n",
    "for i in range(len(cantidad_citas)):\n",
    "    p_D.append((cantidad_veces_citado[i], i))\n",
    "\n",
    "p_D_sorted = sorted(p_D, key=lambda x: x[0], reverse=True)\n",
    "\n",
    "mejores_diez_D = p_D_sorted[:10]\n",
    "\n",
    "papers_mejores_diez_D = []\n",
    "for i in range(10):\n",
    "    papers_mejores_diez_D.append((mejores_diez_D[i], papers.iloc[mejores_diez_D[i][1]]['titulo']))\n",
    "\n",
    "print(\"10 papers de mayor impacto en cantidad de citas:\")\n",
    "for i in range(10):\n",
    "    print(\"Id: \", papers_mejores_diez_D[i][0][1], \"Título: \", papers_mejores_diez_D[i][1], \"Cantidad de veces citado: \", papers_mejores_diez_D[i][0][0])\n"
   ]
  }
 ],
 "metadata": {
  "kernelspec": {
   "display_name": "metodos",
   "language": "python",
   "name": "python3"
  },
  "language_info": {
   "codemirror_mode": {
    "name": "ipython",
    "version": 3
   },
   "file_extension": ".py",
   "mimetype": "text/x-python",
   "name": "python",
   "nbconvert_exporter": "python",
   "pygments_lexer": "ipython3",
   "version": "3.10.13"
  }
 },
 "nbformat": 4,
 "nbformat_minor": 2
}

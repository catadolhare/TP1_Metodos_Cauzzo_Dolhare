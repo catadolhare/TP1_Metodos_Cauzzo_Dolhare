{
 "cells": [
  {
   "cell_type": "markdown",
   "metadata": {},
   "source": [
    "# Ejercicio 4 - TP1 Métodos Computaciones\n",
    "### Camila Cauzzo y Catalina Dolhare"
   ]
  },
  {
   "cell_type": "code",
   "execution_count": 2,
   "metadata": {},
   "outputs": [],
   "source": [
    "import pandas as pd\n",
    "from matricesRalas import *"
   ]
  },
  {
   "cell_type": "markdown",
   "metadata": {},
   "source": [
    "Leemos los archivos csv"
   ]
  },
  {
   "cell_type": "code",
   "execution_count": 3,
   "metadata": {},
   "outputs": [],
   "source": [
    "papers = pd.read_csv('papers/papers.csv', header = 0)\n",
    "citas = pd.read_csv('papers/citas.csv', header = 0)"
   ]
  },
  {
   "cell_type": "markdown",
   "metadata": {},
   "source": [
    "Creamos las matrices W y D con sus respectivos valores"
   ]
  },
  {
   "cell_type": "code",
   "execution_count": 4,
   "metadata": {},
   "outputs": [],
   "source": [
    "W = MatrizRala(len(papers), len(papers))\n",
    "D = MatrizRala(len(papers), len(papers))\n",
    "\n",
    "cantidad_citas = [0] * len(papers)\n",
    "for index, row in citas.iterrows():\n",
    "    W[row['to'], row['from']] = 1\n",
    "    cantidad_citas[row['from']] += 1\n",
    "\n",
    "for i in range(len(cantidad_citas)):\n",
    "    if cantidad_citas[i] != 0:\n",
    "        D[i, i] = 1/cantidad_citas[i]"
   ]
  },
  {
   "cell_type": "markdown",
   "metadata": {},
   "source": [
    "Usando d=0.85 y asumiendo una  asumiendo una distribución equiprobable para el tiempo 1"
   ]
  },
  {
   "cell_type": "code",
   "execution_count": null,
   "metadata": {},
   "outputs": [],
   "source": [
    "p0 = MatrizRala(len(papers), 1)\n",
    "for i in range(len(papers)):\n",
    "    p0[i, 0] = 1/len(papers) #no podemos guardar el valor del paper como una tuple porque despues no funciona el get item que implementamos\n",
    "\n",
    "p = [p0]\n"
   ]
  },
  {
   "cell_type": "code",
   "execution_count": null,
   "metadata": {},
   "outputs": [],
   "source": [
    "b = MatrizRala(len(papers), 1)\n",
    "vector_unos = MatrizRala(len(papers), 1)\n",
    "\n",
    "for i in range(len(papers)):\n",
    "    vector_unos[i, 0] = 1\n",
    "    \n",
    "for i in range(len(papers)):\n",
    "    b[i, 0] = ((1 - 0.85)/len(papers)) * vector_unos[i, 0]"
   ]
  },
  {
   "cell_type": "markdown",
   "metadata": {},
   "source": [
    "Calculamos $p_{t-1}$ hasta que las probabilidades convergan"
   ]
  },
  {
   "cell_type": "code",
   "execution_count": 22,
   "metadata": {},
   "outputs": [
    {
     "name": "stdout",
     "output_type": "stream",
     "text": [
      "0.0052394794477821265\n",
      "0.002622486728358653\n",
      "0.0013768778216899332\n",
      "0.0007407527828097452\n",
      "0.00039711657577709683\n",
      "0.00021085476385928654\n",
      "0.00011079258030189643\n",
      "5.806657733613456e-05\n",
      "3.096854375163844e-05\n",
      "1.725666519689372e-05\n",
      "1.0333548214805106e-05\n",
      "6.767972978102598e-06\n",
      "4.843063844585716e-06\n",
      "3.7100655929658445e-06\n",
      "2.9728052023310694e-06\n",
      "2.4426430696776365e-06\n",
      "2.035414040530446e-06\n",
      "1.708300995483168e-06\n",
      "1.4396293159765497e-06\n",
      "1.2158007817647133e-06\n",
      "1.0283647296092052e-06\n",
      "8.705238597175712e-07\n"
     ]
    }
   ],
   "source": [
    "dif = 1\n",
    "epsilon = 1e-6\n",
    "\n",
    "while dif > epsilon:\n",
    "    dif = 0\n",
    "    p.append(b + (0.85 * ((W@D) @ p[-1])))\n",
    "    for i in range(len(papers)):\n",
    "        dif += abs(p[-1][i, 0] - p[-2][i, 0])\n",
    "    print(dif)"
   ]
  },
  {
   "cell_type": "markdown",
   "metadata": {},
   "source": [
    "Para encontrar la lista de los 10 papers con mayor impacto, tenemos que ordenar las probabilidades para ver cual tiene la mayor probabilidad en p"
   ]
  },
  {
   "cell_type": "code",
   "execution_count": 1,
   "metadata": {},
   "outputs": [
    {
     "ename": "NameError",
     "evalue": "name 'papers' is not defined",
     "output_type": "error",
     "traceback": [
      "\u001b[1;31m---------------------------------------------------------------------------\u001b[0m",
      "\u001b[1;31mNameError\u001b[0m                                 Traceback (most recent call last)",
      "Cell \u001b[1;32mIn[1], line 2\u001b[0m\n\u001b[0;32m      1\u001b[0m p_list \u001b[38;5;241m=\u001b[39m []\n\u001b[1;32m----> 2\u001b[0m \u001b[38;5;28;01mfor\u001b[39;00m i \u001b[38;5;129;01min\u001b[39;00m \u001b[38;5;28mrange\u001b[39m(\u001b[38;5;28mlen\u001b[39m(\u001b[43mpapers\u001b[49m)):\n\u001b[0;32m      3\u001b[0m     p_list\u001b[38;5;241m.\u001b[39mappend((p[\u001b[38;5;241m-\u001b[39m\u001b[38;5;241m1\u001b[39m][i,\u001b[38;5;241m0\u001b[39m], i)) \u001b[38;5;66;03m#quiero el ultimo que es donde converge\u001b[39;00m\n\u001b[0;32m      5\u001b[0m p_sorted \u001b[38;5;241m=\u001b[39m \u001b[38;5;28msorted\u001b[39m(p_list, key\u001b[38;5;241m=\u001b[39m\u001b[38;5;28;01mlambda\u001b[39;00m x: x[\u001b[38;5;241m0\u001b[39m], reverse\u001b[38;5;241m=\u001b[39m\u001b[38;5;28;01mTrue\u001b[39;00m)\n",
      "\u001b[1;31mNameError\u001b[0m: name 'papers' is not defined"
     ]
    }
   ],
   "source": [
    "p_list = []\n",
    "for i in range(len(papers)):\n",
    "    p_list.append((p[-1][i,0], i)) #quiero el ultimo que es donde converge\n",
    "\n",
    "p_sorted = sorted(p_list, key=lambda x: x[0], reverse=True)\n",
    "print(p_sorted)\n",
    "\n",
    "mejores_diez = p_sorted[:10]\n",
    "print(mejores_diez)"
   ]
  }
 ],
 "metadata": {
  "kernelspec": {
   "display_name": "metodos",
   "language": "python",
   "name": "python3"
  },
  "language_info": {
   "codemirror_mode": {
    "name": "ipython",
    "version": 3
   },
   "file_extension": ".py",
   "mimetype": "text/x-python",
   "name": "python",
   "nbconvert_exporter": "python",
   "pygments_lexer": "ipython3",
   "version": "3.10.13"
  }
 },
 "nbformat": 4,
 "nbformat_minor": 2
}

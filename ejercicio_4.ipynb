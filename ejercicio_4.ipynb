{
 "cells": [
  {
   "cell_type": "markdown",
   "metadata": {},
   "source": [
    "# Ejercicio 4 - TP1 Métodos Computaciones\n",
    "### Camila Cauzzo y Catalina Dolhare"
   ]
  },
  {
   "cell_type": "code",
   "execution_count": 1,
   "metadata": {},
   "outputs": [],
   "source": [
    "import pandas as pd\n",
    "from matricesRalas import *"
   ]
  },
  {
   "cell_type": "markdown",
   "metadata": {},
   "source": [
    "Leemos los archivos csv"
   ]
  },
  {
   "cell_type": "code",
   "execution_count": 2,
   "metadata": {},
   "outputs": [],
   "source": [
    "papers = pd.read_csv('papers/papers.csv', header = 0)\n",
    "citas = pd.read_csv('papers/citas.csv', header = 0)"
   ]
  },
  {
   "cell_type": "markdown",
   "metadata": {},
   "source": [
    "Creamos las matrices W y D con sus respectivos valores"
   ]
  },
  {
   "cell_type": "code",
   "execution_count": 3,
   "metadata": {},
   "outputs": [],
   "source": [
    "W = MatrizRala(len(papers), len(papers))\n",
    "D = MatrizRala(len(papers), len(papers))\n",
    "\n",
    "cantidad_citas = [0] * len(papers)\n",
    "for index, row in citas.iterrows():\n",
    "    W[row['to'], row['from']] = 1\n",
    "    cantidad_citas[row['from']] += 1\n",
    "\n",
    "for i in range(len(cantidad_citas)):\n",
    "    if cantidad_citas[i] != 0:\n",
    "        D[i, i] = 1/cantidad_citas[i]"
   ]
  },
  {
   "cell_type": "markdown",
   "metadata": {},
   "source": [
    "Usando d=0.85 y asumiendo una  asumiendo una distribución equiprobable para el tiempo 1"
   ]
  },
  {
   "cell_type": "code",
   "execution_count": 4,
   "metadata": {},
   "outputs": [],
   "source": [
    "p0 = MatrizRala(len(papers), 1)\n",
    "for i in range(len(papers)):\n",
    "    p0[i, 0] = 1/len(papers)\n",
    "\n",
    "p = [p0]\n"
   ]
  },
  {
   "cell_type": "code",
   "execution_count": 5,
   "metadata": {},
   "outputs": [],
   "source": [
    "b = MatrizRala(len(papers), 1)\n",
    "vector_unos = MatrizRala(len(papers), 1)\n",
    "\n",
    "for i in range(len(papers)):\n",
    "    vector_unos[i, 0] = 1\n",
    "    \n",
    "for i in range(len(papers)):\n",
    "    b[i, 0] = ((1 - 0.85)/len(papers)) * vector_unos[i, 0]"
   ]
  },
  {
   "cell_type": "markdown",
   "metadata": {},
   "source": [
    "Calculamos $p_{t+1}$ hasta que las probabilidades convergan"
   ]
  },
  {
   "cell_type": "code",
   "execution_count": 6,
   "metadata": {},
   "outputs": [
    {
     "name": "stdout",
     "output_type": "stream",
     "text": [
      "0.832824508117974\n",
      "0.10259407187713258\n",
      "0.029122875063712566\n",
      "0.011399392348919412\n",
      "0.0052394794477821265\n",
      "0.002622486728358653\n",
      "0.0013768778216899332\n",
      "0.0007407527828097452\n",
      "0.00039711657577709683\n"
     ]
    }
   ],
   "source": [
    "dif = 1\n",
    "epsilon = 1e-4\n",
    "\n",
    "while dif > epsilon:\n",
    "    dif = 0\n",
    "    p.append(b + (0.85 * ((W@D) @ p[-1])))\n",
    "    for i in range(len(papers)):\n",
    "        dif += abs(p[-1][i, 0] - p[-2][i, 0])\n",
    "    print(dif)"
   ]
  },
  {
   "cell_type": "markdown",
   "metadata": {},
   "source": [
    "Para encontrar la lista de los 10 papers con mayor impacto, tenemos que ordenar las probabilidades para ver cual tiene la mayor probabilidad en p"
   ]
  },
  {
   "cell_type": "code",
   "execution_count": null,
   "metadata": {},
   "outputs": [
    {
     "name": "stdout",
     "output_type": "stream",
     "text": [
      "[(0.0001090988049184635, 81323), (0.00010885142597253129, 327827), (0.00010676566975189544, 79620), (0.00010480298176126509, 326368), (0.00010365022983481889, 547167), (0.00010214974732340669, 552437), (6.487411528366567e-05, 322720), (6.25701941277987e-05, 153803), (5.752445148392723e-05, 328020), (5.579477177375608e-05, 317300)]\n",
      "0.19460316220743418\n"
     ]
    }
   ],
   "source": [
    "p_list = []\n",
    "suma=0\n",
    "for i in range(len(papers)):\n",
    "    p_list.append((p[-1][i,0], i)) #quiero el ultimo que es donde converge\n",
    "    suma+=p[-1][i,0]\n",
    "\n",
    "p_sorted = sorted(p_list, key=lambda x: x[0], reverse=True)\n",
    "\n",
    "mejores_diez = p_sorted[:10]\n",
    "print(mejores_diez)\n",
    "print(suma)"
   ]
  },
  {
   "cell_type": "code",
   "execution_count": null,
   "metadata": {},
   "outputs": [
    {
     "name": "stdout",
     "output_type": "stream",
     "text": [
      "10 papers de mayor impacto con metodo iterativo:\n",
      "Id:  81323 Título:  The art of computer programming, volume 2 (3rd ed.): seminumerical algorithms Probabilidad:  0.0001090988049184635\n",
      "Id:  327827 Título:  A method for obtaining digital signatures and public-key cryptosystems Probabilidad:  0.00010885142597253129\n",
      "Id:  79620 Título:  The art of computer programming, volume 1 (3rd ed.): fundamental algorithms Probabilidad:  0.00010676566975189544\n",
      "Id:  326368 Título:  A relational model of data for large shared data banks Probabilidad:  0.00010480298176126509\n",
      "Id:  547167 Título:  Recovery semantics for a DB/DC system Probabilidad:  0.00010365022983481889\n",
      "Id:  552437 Título:  Recovery scenario for a DB/DC system Probabilidad:  0.00010214974732340669\n",
      "Id:  322720 Título:  Programming semantics for multiprogrammed computations Probabilidad:  6.487411528366567e-05\n",
      "Id:  153803 Título:  Principles of interactive computer graphics (2nd ed.) Probabilidad:  6.25701941277987e-05\n",
      "Id:  328020 Título:  Report on the algorithmic language ALGOL 60 Probabilidad:  5.752445148392723e-05\n",
      "Id:  317300 Título:  Ethernet: distributed packet switching for local computer networks Probabilidad:  5.579477177375608e-05\n"
     ]
    }
   ],
   "source": [
    "papers_mejores_diez = []\n",
    "for i in range(10):\n",
    "    papers_mejores_diez.append((mejores_diez[i], papers.iloc[mejores_diez[i][1]]['titulo']))\n",
    "\n",
    "print(\"10 papers de mayor impacto con metodo iterativo:\")\n",
    "for i in range(10):\n",
    "    print(\"Id: \", papers_mejores_diez[i][0][1], \"Título: \", papers_mejores_diez[i][1], \"Probabilidad: \", papers_mejores_diez[i][0][0])\n"
   ]
  },
  {
   "cell_type": "markdown",
   "metadata": {},
   "source": [
    "Buscamos cuales son los 10 papers con mayor probabilidad en la matriz D para compararlos contra estos resultados"
   ]
  },
  {
   "cell_type": "code",
   "execution_count": null,
   "metadata": {},
   "outputs": [
    {
     "name": "stdout",
     "output_type": "stream",
     "text": [
      "10 papers de mayor impacto en cantidad de citas:\n",
      "Id:  216749 Título:  Query evaluation techniques for large databases Cantidad de citas:  195\n",
      "Id:  513215 Título:  A compendium of key search references Cantidad de citas:  182\n",
      "Id:  109762 Título:  A brief survey of program slicing Cantidad de citas:  178\n",
      "Id:  304647 Título:  Hundreds of impossibility results for distributed computing Cantidad de citas:  155\n",
      "Id:  517478 Título:  An annotated bibliography of computer supported cooperative work Cantidad de citas:  148\n",
      "Id:  625521 Título:  Complexity and expressive power of logic programming Cantidad de citas:  130\n",
      "Id:  109487 Título:  Recent AI-Related Dissertations Cantidad de citas:  126\n",
      "Id:  509822 Título:  An updated cross-indexed guide to the ray-tracing literature Cantidad de citas:  126\n",
      "Id:  474951 Título:  Programming languages for distributed computing systems Cantidad de citas:  123\n",
      "Id:  41347 Título:  Algorithms and data structures for external memory Cantidad de citas:  122\n"
     ]
    }
   ],
   "source": [
    "p_D = []\n",
    "\n",
    "for i in range(len(cantidad_citas)):\n",
    "    p_D.append((cantidad_citas[i], i))\n",
    "\n",
    "p_D_sorted = sorted(p_D, key=lambda x: x[0], reverse=True)\n",
    "\n",
    "mejores_diez_D = p_D_sorted[:10]\n",
    "\n",
    "papers_mejores_diez_D = []\n",
    "for i in range(10):\n",
    "    papers_mejores_diez_D.append((mejores_diez_D[i], papers.iloc[mejores_diez_D[i][1]]['titulo']))\n",
    "\n",
    "print(\"10 papers de mayor impacto en cantidad de citas:\")\n",
    "for i in range(10):\n",
    "    print(\"Id: \", papers_mejores_diez_D[i][0][1], \"Título: \", papers_mejores_diez_D[i][1], \"Cantidad de citas: \", papers_mejores_diez_D[i][0][0])\n"
   ]
  }
 ],
 "metadata": {
  "kernelspec": {
   "display_name": "metodos",
   "language": "python",
   "name": "python3"
  },
  "language_info": {
   "codemirror_mode": {
    "name": "ipython",
    "version": 3
   },
   "file_extension": ".py",
   "mimetype": "text/x-python",
   "name": "python",
   "nbconvert_exporter": "python",
   "pygments_lexer": "ipython3",
   "version": "3.10.13"
  }
 },
 "nbformat": 4,
 "nbformat_minor": 2
}

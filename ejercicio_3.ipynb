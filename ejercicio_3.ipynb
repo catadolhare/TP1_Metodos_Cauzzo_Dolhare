{
 "cells": [
  {
   "cell_type": "markdown",
   "metadata": {},
   "source": [
    "Importamos las clases del archivo de matricesRala para tener acceso a estos metodos "
   ]
  },
  {
   "cell_type": "code",
   "execution_count": 2,
   "metadata": {},
   "outputs": [],
   "source": [
    "from matricesRalas import *\n"
   ]
  },
  {
   "cell_type": "markdown",
   "metadata": {},
   "source": [
    "Creamos las matrices correspondientes para W y D"
   ]
  },
  {
   "cell_type": "code",
   "execution_count": 4,
   "metadata": {},
   "outputs": [],
   "source": [
    "W = MatrizRala(11, 11)\n",
    "\n",
    "''' A = 0\n",
    "    B = 1\n",
    "    C = 2\n",
    "    D = 3\n",
    "    E = 4\n",
    "    F = 5\n",
    "    G = 6\n",
    "    H = 7\n",
    "    I = 8\n",
    "    J = 9\n",
    "    K = 10\n",
    "'''\n",
    "\n",
    "W[0, 1] = 1 #A cita a B\n",
    "W[0, 5] = 1 #A cita a F\n",
    "W[0, 6] = 1 #A cita a G\n",
    "W[2, 0] = 1 #C cita a A\n",
    "W[3, 0] = 1 #D cita a A\n",
    "W[4, 0] = 1 #E cita a A\n",
    "W[5, 8] = 1 #F cita a I\n",
    "W[6, 5] = 1 #G cita a F\n",
    "W[7, 6] = 1 #H cita a G\n",
    "W[8, 6] = 1 #I cita a G\n",
    "W[8, 7] = 1 #I cita a H\n",
    "W[8, 9] = 1 #I cita a J\n",
    "W[10, 4] = 1 #K cita a E\n",
    "\n",
    "D = MatrizRala(11, 11)\n",
    "D[0, 0] = 3\n",
    "D[1, 1] = 1\n",
    "D[2, 2] = 0\n",
    "D[3, 3] = 0\n",
    "D[4, 4] = 1\n",
    "D[5, 5] = 2\n",
    "D[6, 6] = 3\n",
    "D[7, 7] = 1\n",
    "D[8, 8] = 1\n",
    "D[9, 9] = 1\n",
    "D[10, 10] = 0"
   ]
  }
 ],
 "metadata": {
  "kernelspec": {
   "display_name": "metodos",
   "language": "python",
   "name": "python3"
  },
  "language_info": {
   "codemirror_mode": {
    "name": "ipython",
    "version": 3
   },
   "file_extension": ".py",
   "mimetype": "text/x-python",
   "name": "python",
   "nbconvert_exporter": "python",
   "pygments_lexer": "ipython3",
   "version": "3.10.13"
  }
 },
 "nbformat": 4,
 "nbformat_minor": 2
}

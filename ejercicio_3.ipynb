{
 "cells": [
  {
   "cell_type": "markdown",
   "metadata": {},
   "source": [
    "# Ejercicio 3 - TP1 Metodos Computaciones\n",
    "### Camila Cauzzo y Catalina Dolhare"
   ]
  },
  {
   "cell_type": "markdown",
   "metadata": {},
   "source": [
    "Importamos las clases del archivo de matricesRala para tener acceso a estos metodos "
   ]
  },
  {
   "cell_type": "code",
   "execution_count": 1,
   "metadata": {},
   "outputs": [],
   "source": [
    "from matricesRalas import *\n"
   ]
  },
  {
   "cell_type": "markdown",
   "metadata": {},
   "source": [
    "Creamos las matrices correspondientes para W y D"
   ]
  },
  {
   "cell_type": "code",
   "execution_count": 2,
   "metadata": {},
   "outputs": [],
   "source": [
    "W = MatrizRala(11, 11)\n",
    "\n",
    "''' A = 0\n",
    "    B = 1\n",
    "    C = 2\n",
    "    D = 3\n",
    "    E = 4\n",
    "    F = 5\n",
    "    G = 6\n",
    "    H = 7\n",
    "    I = 8\n",
    "    J = 9\n",
    "    K = 10\n",
    "'''\n",
    "\n",
    "W[1, 0] = 1 #A cita a B\n",
    "W[5, 0] = 1 #A cita a F\n",
    "W[6, 0] = 1 #A cita a G\n",
    "W[0, 2] = 1 #C cita a A\n",
    "W[0, 3] = 1 #D cita a A\n",
    "W[0, 4] = 1 #E cita a A\n",
    "W[8, 5] = 1 #F cita a I\n",
    "W[5, 6] = 1 #G cita a F\n",
    "W[6, 7] = 1 #H cita a G\n",
    "W[6, 8] = 1 #I cita a G\n",
    "W[7, 8] = 1 #I cita a H\n",
    "W[9, 8] = 1 #I cita a J\n",
    "W[4, 10] = 1 #K cita a E\n",
    "\n",
    "D = MatrizRala(11, 11)\n",
    "D[0, 0] = 1/3\n",
    "D[2, 2] = 1\n",
    "D[3, 3] = 1\n",
    "D[4, 4] = 1\n",
    "D[5, 5] = 1\n",
    "D[6, 6] = 1\n",
    "D[7, 7] = 1\n",
    "D[8, 8] = 1/3\n",
    "D[10, 10] = 1"
   ]
  },
  {
   "cell_type": "markdown",
   "metadata": {},
   "source": [
    "Si el sistema converge, encontramos el vector de probabilidad p* tal que:\n",
    "\n",
    "p* = (1-d)/N*(vector de unos) + dWDp*\n",
    "\n",
    "con d = 0,85\n",
    "\n",
    "Para expresar la solución como sistema lineal Ax=b,\n",
    "\n",
    "p* = (1-d)/N*(vector de unos) + dWDp*\n",
    "\n",
    "p* - dWDp* = (1-d)/N*(vector de unos)\n",
    "\n",
    "(Identidad - dWD) p* = (1-d)/N*(vector de unos)\n",
    "\n",
    "Entonces,\n",
    "\n",
    "A = (Identidad - dWD)\n",
    "\n",
    "x = p*\n",
    "\n",
    "b = (1-d)/N*(vector de unos)\n",
    "\n",
    "\n",
    "Utilizando gauss jordan obtendremos el vector de probabilidades p*"
   ]
  },
  {
   "cell_type": "code",
   "execution_count": 3,
   "metadata": {},
   "outputs": [
    {
     "name": "stdout",
     "output_type": "stream",
     "text": [
      "MatrizRala([ \n",
      "    [ 0.058261363636363646 ]\n",
      "    [ 0.030143750000000004 ]\n",
      "    [ 0.01363636363636364 ]\n",
      "    [ 0.01363636363636364 ]\n",
      "    [ 0.02522727272727273 ]\n",
      "    [ 0.11539510774418678 ]\n",
      "    [ 0.10029571499316091 ]\n",
      "    [ 0.04529098844839165 ]\n",
      "    [ 0.11172220521892243 ]\n",
      "    [ 0.04529098844839165 ]\n",
      "    [ 0.01363636363636364 ]\n",
      "])\n"
     ]
    }
   ],
   "source": [
    "Identidad = MatrizRala(11, 11)\n",
    "for i in range(11):\n",
    "    Identidad[i, i] = 1\n",
    "\n",
    "WD = W @ D\n",
    "dWD = WD * 0.85\n",
    "A = Identidad - dWD\n",
    "\n",
    "b = MatrizRala(11, 1)\n",
    "vector_unos = MatrizRala(11, 1)\n",
    "\n",
    "for i in range(11):\n",
    "    vector_unos[i, 0] = 1\n",
    "    \n",
    "for i in range(11):\n",
    "    b[i, 0] = ((1 - 0.85)/11) * vector_unos[i, 0]\n",
    "\n",
    "x = MatrizRala(11, 1)\n",
    "x = GaussJordan(A, b)\n"
   ]
  },
  {
   "cell_type": "markdown",
   "metadata": {},
   "source": [
    "Para comparar este resultado con el metodo iterativo,  inicializamos el vector p0 con una distribucion equiprobable"
   ]
  },
  {
   "cell_type": "code",
   "execution_count": 4,
   "metadata": {},
   "outputs": [],
   "source": [
    "p0 = MatrizRala(11, 1)\n",
    "for i in range(11):\n",
    "    p0[i, 0] = 1/11"
   ]
  },
  {
   "cell_type": "markdown",
   "metadata": {},
   "source": [
    "Para cada t, calculamos la probabilidad hasta que converga:\n",
    "\n",
    "p(t+1) = (1-d)/N*(vector de unos) + dWDp(t)\n",
    "\n",
    "con d = 0,85\n",
    "\n",
    "Por el anunciado, sabemos que tenemos 11 papers por lo que el valor más grande que puede tomar p es 11"
   ]
  },
  {
   "cell_type": "code",
   "execution_count": 12,
   "metadata": {},
   "outputs": [],
   "source": [
    "p = [p0]\n",
    "\n",
    "for i in range(1, 30):\n",
    "    p.append(b + dWD @ p[i-1])\n"
   ]
  },
  {
   "cell_type": "markdown",
   "metadata": {},
   "source": [
    "Calculamos la diferencia absoluta entre pt y p* para cada valor de t"
   ]
  },
  {
   "cell_type": "code",
   "execution_count": 13,
   "metadata": {},
   "outputs": [
    {
     "data": {
      "text/plain": [
       "[0.5368350283322141,\n",
       " 0.3381324881662368,\n",
       " 0.25271838075869507,\n",
       " 0.1546907906014921,\n",
       " 0.11778125777320929,\n",
       " 0.08192628302573454,\n",
       " 0.05906873662421937,\n",
       " 0.0482748952679483,\n",
       " 0.037265177084551834,\n",
       " 0.02634720655268369,\n",
       " 0.02016035658462509,\n",
       " 0.01602842464167166,\n",
       " 0.01187771118988662,\n",
       " 0.008711461826024974,\n",
       " 0.006789096140823264,\n",
       " 0.005220445741698651,\n",
       " 0.0038500553235744917,\n",
       " 0.0029055970624348865,\n",
       " 0.0022499856194938134,\n",
       " 0.0016965068435143005,\n",
       " 0.0012647175792398907,\n",
       " 0.000966170748381498,\n",
       " 0.0007387912736864372,\n",
       " 0.0005540939529443817,\n",
       " 0.00041784669723267387,\n",
       " 0.0003193524533917219,\n",
       " 0.0002419788703873077,\n",
       " 0.0001819502031541187,\n",
       " 0.00013808030431221308,\n",
       " 0.00010510308346668717]"
      ]
     },
     "execution_count": 13,
     "metadata": {},
     "output_type": "execute_result"
    }
   ],
   "source": [
    "diferencias = []\n",
    "\n",
    "for i in range(30):\n",
    "    diferencia = 0\n",
    "    for j in range(30):\n",
    "        diferencia += abs(p[i][j,0] - x[j,0])\n",
    "    diferencias.append(diferencia)\n",
    "\n",
    "diferencias"
   ]
  },
  {
   "cell_type": "code",
   "execution_count": 14,
   "metadata": {},
   "outputs": [
    {
     "data": {
      "image/png": "[encoded data removed]",
      "text/plain": [
       "<Figure size 640x480 with 1 Axes>"
      ]
     },
     "metadata": {},
     "output_type": "display_data"
    }
   ],
   "source": [
    "import matplotlib.pyplot as plt\n",
    "plt.plot(diferencias)\n",
    "\n",
    "plt.show()"
   ]
  },
  {
   "cell_type": "markdown",
   "metadata": {},
   "source": [
    "Comparando los resultados obtenido con el metodo iterativo con el obtenido con Gauss Jordan, notamos que cuando t >= 11, ambas probabilidades son iguales, por esto podemos decir que la probabilidad converge con t = 11. Esto se debe a que hay 11 papers por lo que si t > 11, la probabilidad va a seguir siendo la misma por que no van a haber más papers para leer, tomando la probabilidad de t = 11."
   ]
  }
 ],
 "metadata": {
  "kernelspec": {
   "display_name": "metodos",
   "language": "python",
   "name": "python3"
  },
  "language_info": {
   "codemirror_mode": {
    "name": "ipython",
    "version": 3
   },
   "file_extension": ".py",
   "mimetype": "text/x-python",
   "name": "python",
   "nbconvert_exporter": "python",
   "pygments_lexer": "ipython3",
   "version": "3.10.13"
  }
 },
 "nbformat": 4,
 "nbformat_minor": 2
}

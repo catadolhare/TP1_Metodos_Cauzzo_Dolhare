{
 "cells": [
  {
   "cell_type": "markdown",
   "metadata": {},
   "source": [
    "# Ejercicio 3 - TP1 Metodos Computaciones\n",
    "### Camila Cauzzo y Catalina Dolhare"
   ]
  },
  {
   "cell_type": "markdown",
   "metadata": {},
   "source": [
    "Importamos las clases del archivo de matricesRala para tener acceso a estos metodos "
   ]
  },
  {
   "cell_type": "code",
   "execution_count": 39,
   "metadata": {},
   "outputs": [],
   "source": [
    "from matricesRalas import *\n"
   ]
  },
  {
   "cell_type": "markdown",
   "metadata": {},
   "source": [
    "Creamos las matrices correspondientes para W y D"
   ]
  },
  {
   "cell_type": "code",
   "execution_count": 40,
   "metadata": {},
   "outputs": [],
   "source": [
    "W = MatrizRala(11, 11)\n",
    "\n",
    "''' A = 0\n",
    "    B = 1\n",
    "    C = 2\n",
    "    D = 3\n",
    "    E = 4\n",
    "    F = 5\n",
    "    G = 6\n",
    "    H = 7\n",
    "    I = 8\n",
    "    J = 9\n",
    "    K = 10\n",
    "'''\n",
    "\n",
    "W[1, 0] = 1 #A cita a B\n",
    "W[5, 0] = 1 #A cita a F\n",
    "W[6, 0] = 1 #A cita a G\n",
    "W[0, 2] = 1 #C cita a A\n",
    "W[0, 3] = 1 #D cita a A\n",
    "W[0, 4] = 1 #E cita a A\n",
    "W[8, 5] = 1 #F cita a I\n",
    "W[5, 6] = 1 #G cita a F\n",
    "W[6, 7] = 1 #H cita a G\n",
    "W[6, 8] = 1 #I cita a G\n",
    "W[7, 8] = 1 #I cita a H\n",
    "W[9, 8] = 1 #I cita a J\n",
    "W[4, 10] = 1 #K cita a E\n",
    "\n",
    "D = MatrizRala(11, 11)\n",
    "D[0, 0] = 1/3\n",
    "D[2, 2] = 1\n",
    "D[3, 3] = 1\n",
    "D[4, 4] = 1\n",
    "D[5, 5] = 1\n",
    "D[6, 6] = 1\n",
    "D[7, 7] = 1\n",
    "D[8, 8] = 1/3\n",
    "D[10, 10] = 1"
   ]
  },
  {
   "cell_type": "markdown",
   "metadata": {},
   "source": [
    "Si el sistema converge, encontramos el vector de probabilidad p* tal que:\n",
    "\n",
    "$p^* = \\frac{1-d}{N}*\\mathbf{1} + dWDp^*$, con d = 0,85\n",
    "\n",
    "Para expresar la solución como sistema lineal Ax=b,\n",
    "\n",
    "$p^* = \\frac{1-d}{N}*\\mathbf{1} + dWDp^*$\n",
    "\n",
    "$p^* - dWDp^* = \\frac{1-d}{N}*\\mathbf{1}$\n",
    "\n",
    "$(\\mathbf{I} - dWD) p^*= \\frac{1-d}{N}*\\mathbf{1}$\n",
    "\n",
    "Entonces,\n",
    "\n",
    "$A = (\\mathbf{I} - dWD)$\n",
    "\n",
    "$x = p^*$\n",
    "\n",
    "$b = \\frac{1-d}{N}*\\mathbf{1}$\n",
    "\n",
    "Utilizando gauss jordan obtendremos el vector de probabilidades $p^*$"
   ]
  },
  {
   "cell_type": "code",
   "execution_count": 41,
   "metadata": {},
   "outputs": [
    {
     "data": {
      "text/plain": [
       "MatrizRala([ \n",
       "    [ 0.058261363636363646 ]\n",
       "    [ 0.030143750000000004 ]\n",
       "    [ 0.01363636363636364 ]\n",
       "    [ 0.01363636363636364 ]\n",
       "    [ 0.02522727272727273 ]\n",
       "    [ 0.11539510774418678 ]\n",
       "    [ 0.10029571499316091 ]\n",
       "    [ 0.04529098844839165 ]\n",
       "    [ 0.11172220521892243 ]\n",
       "    [ 0.04529098844839165 ]\n",
       "    [ 0.01363636363636364 ]\n",
       "])"
      ]
     },
     "execution_count": 41,
     "metadata": {},
     "output_type": "execute_result"
    }
   ],
   "source": [
    "Identidad = MatrizRala(11, 11)\n",
    "for i in range(11):\n",
    "    Identidad[i, i] = 1\n",
    "\n",
    "WD = W @ D\n",
    "dWD = WD * 0.85\n",
    "A = Identidad - dWD\n",
    "\n",
    "b = MatrizRala(11, 1)\n",
    "vector_unos = MatrizRala(11, 1)\n",
    "\n",
    "for i in range(11):\n",
    "    vector_unos[i, 0] = 1\n",
    "    \n",
    "for i in range(11):\n",
    "    b[i, 0] = ((1 - 0.85)/11) * vector_unos[i, 0]\n",
    "\n",
    "x = MatrizRala(11, 1)\n",
    "x = GaussJordan(A, b)\n",
    "x\n"
   ]
  },
  {
   "cell_type": "markdown",
   "metadata": {},
   "source": [
    "Para comparar este resultado con el metodo iterativo,  inicializamos el vector $p_0$ con una distribucion equiprobable"
   ]
  },
  {
   "cell_type": "code",
   "execution_count": 42,
   "metadata": {},
   "outputs": [],
   "source": [
    "p0 = MatrizRala(11, 1)\n",
    "for i in range(11):\n",
    "    p0[i, 0] = 1/11"
   ]
  },
  {
   "cell_type": "markdown",
   "metadata": {},
   "source": [
    "Para cada t, calculamos la probabilidad hasta que converga:\n",
    "\n",
    "$p_{t+1} = \\frac{1-d}{N}*\\mathbf{1} + dWDp_t$, con d = 0,85\n",
    "\n",
    "La probabilidad va a converge cuando la diferencia entre la probabilidad y la anterior sea menor a un epsilon."
   ]
  },
  {
   "cell_type": "code",
   "execution_count": 53,
   "metadata": {},
   "outputs": [
    {
     "name": "stdout",
     "output_type": "stream",
     "text": [
      "43\n",
      "MatrizRala([ \n",
      "    [ 0.058261363636363646 ]\n",
      "    [ 0.030143750000000004 ]\n",
      "    [ 0.01363636363636364 ]\n",
      "    [ 0.01363636363636364 ]\n",
      "    [ 0.02522727272727273 ]\n",
      "    [ 0.11539584606579674 ]\n",
      "    [ 0.10029636660402777 ]\n",
      "    [ 0.04529129370635331 ]\n",
      "    [ 0.11172302950797616 ]\n",
      "    [ 0.04529129370635331 ]\n",
      "    [ 0.01363636363636364 ]\n",
      "])\n",
      "MatrizRala([ \n",
      "    [ 0.058261363636363646 ]\n",
      "    [ 0.030143750000000004 ]\n",
      "    [ 0.01363636363636364 ]\n",
      "    [ 0.01363636363636364 ]\n",
      "    [ 0.02522727272727273 ]\n",
      "    [ 0.11539510774418678 ]\n",
      "    [ 0.10029571499316091 ]\n",
      "    [ 0.04529098844839165 ]\n",
      "    [ 0.11172220521892243 ]\n",
      "    [ 0.04529098844839165 ]\n",
      "    [ 0.01363636363636364 ]\n",
      "])\n"
     ]
    }
   ],
   "source": [
    "p = [p0]\n",
    "\n",
    "dif = 1\n",
    "epsilon = 1e-6\n",
    "\n",
    "j:int=1\n",
    "\n",
    "while dif > epsilon:\n",
    "    dif = 0\n",
    "    p.append(b + (0.85 * ((W@D) @ p[-1])))\n",
    "    for i in range(p[-1].shape[0]):\n",
    "        dif += abs((p[-1][i, 0] - p[-2][i, 0]))\n",
    "    j = j + 1\n",
    "\n",
    "print(j)\n",
    "\n",
    "print(p[-1]) #probabilidades cuando t converge\n",
    "print(x)\n"
   ]
  },
  {
   "cell_type": "markdown",
   "metadata": {},
   "source": [
    "Calculamos la diferencia absoluta entre $p_t$ y $p^*$ para cada valor de t"
   ]
  },
  {
   "cell_type": "code",
   "execution_count": 48,
   "metadata": {},
   "outputs": [
    {
     "name": "stdout",
     "output_type": "stream",
     "text": [
      "[0.5368350283322141, 0.3381324881662368, 0.252718380758695, 0.15469079060149202, 0.11778125777320923, 0.08192628302573449, 0.05906873662421935, 0.04827489526794829, 0.037265177084551834, 0.026347206552683675, 0.020160356584625075, 0.016028424641671632, 0.011877711189886578, 0.008711461826024933, 0.006789096140823195, 0.005220445741698568, 0.003850055323574436, 0.002905597062434817, 0.002249985619493744, 0.001696506843514231, 0.0012647175792398074, 0.0009661707483813869, 0.00073879127368634, 0.0005540939529442845, 0.0004178466972325906, 0.00031935245339163865, 0.00024197887038721055, 0.00018195020315402155, 0.0001380803043121298, 0.00010510308346659003, 7.935155040732222e-05, 5.9925903373614364e-05, 4.5541737662246895e-05, 3.45320791192566e-05, 2.607466688972493e-05, 1.9750005246607638e-05, 1.4993361594911603e-05, 1.1346355309804768e-05, 8.580037018382503e-06, 6.505808121906598e-06, 4.931569638530475e-06, 3.7306945400855662e-06, 2.8247374538881154e-06]\n"
     ]
    }
   ],
   "source": [
    "diferencias = []\n",
    "\n",
    "for i in range(len(p)):\n",
    "    diferencia = 0\n",
    "    for j in range(p[i].shape[0]):\n",
    "        diferencia += abs(p[i][j, 0] - x[j,0])\n",
    "    diferencias.append(diferencia)\n",
    "\n",
    "print(diferencias)"
   ]
  },
  {
   "cell_type": "code",
   "execution_count": 45,
   "metadata": {},
   "outputs": [
    {
     "data": {
      "image/png": "[encoded data removed]",
      "text/plain": [
       "<Figure size 640x480 with 1 Axes>"
      ]
     },
     "metadata": {},
     "output_type": "display_data"
    }
   ],
   "source": [
    "import matplotlib.pyplot as plt\n",
    "plt.plot(diferencias)\n",
    "\n",
    "plt.show()"
   ]
  },
  {
   "cell_type": "markdown",
   "metadata": {},
   "source": [
    "Comparando los resultados obtenido con el metodo iterativo con el obtenido con Gauss Jordan, notamos que a partir de t=11 aproximadamente las diferencias de probabilidades son casi nulas. PORQUE"
   ]
  }
 ],
 "metadata": {
  "kernelspec": {
   "display_name": "metodos",
   "language": "python",
   "name": "python3"
  },
  "language_info": {
   "codemirror_mode": {
    "name": "ipython",
    "version": 3
   },
   "file_extension": ".py",
   "mimetype": "text/x-python",
   "name": "python",
   "nbconvert_exporter": "python",
   "pygments_lexer": "ipython3",
   "version": "3.10.13"
  }
 },
 "nbformat": 4,
 "nbformat_minor": 2
}

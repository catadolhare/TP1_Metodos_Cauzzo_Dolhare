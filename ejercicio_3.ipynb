{
 "cells": [
  {
   "cell_type": "markdown",
   "metadata": {},
   "source": [
    "# Ejercicio 3 - TP1 Metodos Computaciones\n",
    "### Camila Cauzzo y Catalina Dolhare"
   ]
  },
  {
   "cell_type": "markdown",
   "metadata": {},
   "source": [
    "Importamos las clases del archivo de matricesRala para tener acceso a estos metodos "
   ]
  },
  {
   "cell_type": "code",
   "execution_count": 8,
   "metadata": {},
   "outputs": [],
   "source": [
    "from matricesRalas import *\n"
   ]
  },
  {
   "cell_type": "markdown",
   "metadata": {},
   "source": [
    "Creamos las matrices correspondientes para W y D"
   ]
  },
  {
   "cell_type": "code",
   "execution_count": 9,
   "metadata": {},
   "outputs": [],
   "source": [
    "W = MatrizRala(11, 11)\n",
    "\n",
    "''' A = 0\n",
    "    B = 1\n",
    "    C = 2\n",
    "    D = 3\n",
    "    E = 4\n",
    "    F = 5\n",
    "    G = 6\n",
    "    H = 7\n",
    "    I = 8\n",
    "    J = 9\n",
    "    K = 10\n",
    "'''\n",
    "\n",
    "W[1, 0] = 1 #A cita a B\n",
    "W[5, 0] = 1 #A cita a F\n",
    "W[6, 0] = 1 #A cita a G\n",
    "W[0, 2] = 1 #C cita a A\n",
    "W[0, 3] = 1 #D cita a A\n",
    "W[0, 4] = 1 #E cita a A\n",
    "W[8, 5] = 1 #F cita a I\n",
    "W[5, 6] = 1 #G cita a F\n",
    "W[6, 7] = 1 #H cita a G\n",
    "W[6, 8] = 1 #I cita a G\n",
    "W[7, 8] = 1 #I cita a H\n",
    "W[9, 8] = 1 #I cita a J\n",
    "W[4, 10] = 1 #K cita a E\n",
    "\n",
    "D = MatrizRala(11, 11)\n",
    "D[0, 0] = 1/3\n",
    "D[2, 2] = 1\n",
    "D[3, 3] = 1\n",
    "D[4, 4] = 1\n",
    "D[5, 5] = 1\n",
    "D[6, 6] = 1\n",
    "D[7, 7] = 1\n",
    "D[8, 8] = 1/3\n",
    "D[10, 10] = 1"
   ]
  },
  {
   "cell_type": "markdown",
   "metadata": {},
   "source": [
    "Si el sistema converge, encontramos el vector de probabilidad p* tal que:\n",
    "\n",
    "p* = (1-d)/N*(vector de unos) + dWDp*\n",
    "\n",
    "con d = 0,85\n",
    "\n",
    "Para expresar la solución como sistema lineal Ax=b,\n",
    "\n",
    "p* = (1-d)/N*(vector de unos) + dWDp*\n",
    "\n",
    "p* - dWDp* = (1-d)/N*(vector de unos)\n",
    "\n",
    "(Identidad - dWD) p* = (1-d)/N*(vector de unos)\n",
    "\n",
    "Entonces,\n",
    "\n",
    "A = (Identidad - dWD)\n",
    "\n",
    "x = p*\n",
    "\n",
    "b = (1-d)/N*(vector de unos)\n",
    "\n",
    "\n",
    "Utilizando gauss jordan obtendremos el vector de probabilidades p*"
   ]
  },
  {
   "cell_type": "code",
   "execution_count": 10,
   "metadata": {},
   "outputs": [
    {
     "ename": "ValueError",
     "evalue": "El sistema tiene infinitas soluciones",
     "output_type": "error",
     "traceback": [
      "\u001b[1;31m---------------------------------------------------------------------------\u001b[0m",
      "\u001b[1;31mValueError\u001b[0m                                Traceback (most recent call last)",
      "Cell \u001b[1;32mIn[10], line 19\u001b[0m\n\u001b[0;32m     16\u001b[0m     b[i, \u001b[38;5;241m0\u001b[39m] \u001b[38;5;241m=\u001b[39m ((\u001b[38;5;241m1\u001b[39m \u001b[38;5;241m-\u001b[39m \u001b[38;5;241m0.85\u001b[39m)\u001b[38;5;241m/\u001b[39m\u001b[38;5;241m11\u001b[39m) \u001b[38;5;241m*\u001b[39m vector_unos[i, \u001b[38;5;241m0\u001b[39m]\n\u001b[0;32m     18\u001b[0m x \u001b[38;5;241m=\u001b[39m MatrizRala(\u001b[38;5;241m11\u001b[39m, \u001b[38;5;241m1\u001b[39m)\n\u001b[1;32m---> 19\u001b[0m x \u001b[38;5;241m=\u001b[39m \u001b[43mGaussJordan\u001b[49m\u001b[43m(\u001b[49m\u001b[43mA\u001b[49m\u001b[43m,\u001b[49m\u001b[43m \u001b[49m\u001b[43mb\u001b[49m\u001b[43m)\u001b[49m\n",
      "File \u001b[1;32mc:\\Users\\catal\\OneDrive - Universidad Torcuato Di Tella\\2024\\Primer Cuatrimestre\\Métodos Computacionales\\TP1_Metodos_Cauzzo_Dolhare\\matricesRalas.py:273\u001b[0m, in \u001b[0;36mGaussJordan\u001b[1;34m(A, b)\u001b[0m\n\u001b[0;32m    271\u001b[0m                 \u001b[38;5;28;01mbreak\u001b[39;00m\n\u001b[0;32m    272\u001b[0m \u001b[38;5;28;01mif\u001b[39;00m variables_libres:\n\u001b[1;32m--> 273\u001b[0m     \u001b[38;5;28;01mraise\u001b[39;00m \u001b[38;5;167;01mValueError\u001b[39;00m(\u001b[38;5;124m\"\u001b[39m\u001b[38;5;124mEl sistema tiene infinitas soluciones\u001b[39m\u001b[38;5;124m\"\u001b[39m)\n\u001b[0;32m    274\u001b[0m \u001b[38;5;28;01melse\u001b[39;00m:\n\u001b[0;32m    275\u001b[0m     res \u001b[38;5;241m=\u001b[39m MatrizRala(A\u001b[38;5;241m.\u001b[39mshape[\u001b[38;5;241m1\u001b[39m], \u001b[38;5;241m1\u001b[39m) \u001b[38;5;66;03m#creamos una matriz de 1 columna y tantas filas como columnas de A para devolver la solucion\u001b[39;00m\n",
      "\u001b[1;31mValueError\u001b[0m: El sistema tiene infinitas soluciones"
     ]
    }
   ],
   "source": [
    "Identidad = MatrizRala(11, 11)\n",
    "for i in range(11):\n",
    "    Identidad[i, i] = 1\n",
    "\n",
    "WD = W @ D\n",
    "dWD = WD * 0.85\n",
    "A = Identidad - dWD\n",
    "\n",
    "b = MatrizRala(11, 1)\n",
    "vector_unos = MatrizRala(11, 1)\n",
    "\n",
    "for i in range(11):\n",
    "    vector_unos[i, 0] = 1\n",
    "    \n",
    "for i in range(11):\n",
    "    b[i, 0] = ((1 - 0.85)/11) * vector_unos[i, 0]\n",
    "\n",
    "x = MatrizRala(11, 1)\n",
    "x = GaussJordan(A, b)\n"
   ]
  },
  {
   "cell_type": "markdown",
   "metadata": {},
   "source": [
    "Para comparar este resultado con el metodo iterativo,  inicializamos el vector p0 con una distribucion equiprobable"
   ]
  },
  {
   "cell_type": "code",
   "execution_count": null,
   "metadata": {},
   "outputs": [],
   "source": [
    "p0 = MatrizRala(11, 1)\n",
    "for i in range(11):\n",
    "    p0[i, 0] = 1/11"
   ]
  },
  {
   "cell_type": "markdown",
   "metadata": {},
   "source": [
    "Para cada t, calculamos la probabilidad hasta que converga:\n",
    "\n",
    "p(t+1) = (1-d)/N*(vector de unos) + dWDp(t)\n",
    "\n",
    "con d = 0,85\n",
    "\n",
    "Por el anunciado, sabemos que tenemos 11 papers por lo que el valor más grande que puede tomar p es 11"
   ]
  },
  {
   "cell_type": "code",
   "execution_count": null,
   "metadata": {},
   "outputs": [],
   "source": [
    "p = [p0]\n",
    "\n",
    "for i in range(1, 30):\n",
    "    p.append(b + dWD @ p[i-1])\n"
   ]
  },
  {
   "cell_type": "markdown",
   "metadata": {},
   "source": [
    "Calculamos la diferencia absoluta entre pt y p* para cada valor de t"
   ]
  },
  {
   "cell_type": "code",
   "execution_count": null,
   "metadata": {},
   "outputs": [
    {
     "data": {
      "text/plain": [
       "[0.6801096306818182,\n",
       " 0.42253387310606055,\n",
       " 0.3130641761363636,\n",
       " 0.10835584280303029,\n",
       " 0.013445615530303018,\n",
       " 0.0,\n",
       " 0.0,\n",
       " 0.0,\n",
       " 0.0,\n",
       " 0.0,\n",
       " 0.0,\n",
       " 0.0,\n",
       " 0.0,\n",
       " 0.0,\n",
       " 0.0,\n",
       " 0.0,\n",
       " 0.0,\n",
       " 0.0,\n",
       " 0.0,\n",
       " 0.0,\n",
       " 0.0,\n",
       " 0.0,\n",
       " 0.0,\n",
       " 0.0,\n",
       " 0.0,\n",
       " 0.0,\n",
       " 0.0,\n",
       " 0.0,\n",
       " 0.0,\n",
       " 0.0]"
      ]
     },
     "execution_count": 13,
     "metadata": {},
     "output_type": "execute_result"
    }
   ],
   "source": [
    "diferencias = []\n",
    "\n",
    "for i in range(30):\n",
    "    diferencia = 0\n",
    "    for j in range(30):\n",
    "        diferencia += abs(p[i][j,0] - x[j,0])\n",
    "    diferencias.append(diferencia)\n",
    "\n",
    "diferencias"
   ]
  },
  {
   "cell_type": "code",
   "execution_count": null,
   "metadata": {},
   "outputs": [
    {
     "data": {
      "image/png": "[encoded data removed]",
      "text/plain": [
       "<Figure size 640x480 with 1 Axes>"
      ]
     },
     "metadata": {},
     "output_type": "display_data"
    }
   ],
   "source": [
    "import matplotlib.pyplot as plt\n",
    "plt.plot(diferencias)\n",
    "\n",
    "plt.show()"
   ]
  },
  {
   "cell_type": "markdown",
   "metadata": {},
   "source": [
    "Comparando los resultados obtenido con el metodo iterativo con el obtenido con Gauss Jordan, notamos que cuando t >= 11, ambas probabilidades son iguales, por esto podemos decir que la probabilidad converge con t = 11. Esto se debe a que hay 11 papers por lo que si t > 11, la probabilidad va a seguir siendo la misma por que no van a haber más papers para leer, tomando la probabilidad de t = 11."
   ]
  }
 ],
 "metadata": {
  "kernelspec": {
   "display_name": "metodos",
   "language": "python",
   "name": "python3"
  },
  "language_info": {
   "codemirror_mode": {
    "name": "ipython",
    "version": 3
   },
   "file_extension": ".py",
   "mimetype": "text/x-python",
   "name": "python",
   "nbconvert_exporter": "python",
   "pygments_lexer": "ipython3",
   "version": "3.10.13"
  }
 },
 "nbformat": 4,
 "nbformat_minor": 2
}
